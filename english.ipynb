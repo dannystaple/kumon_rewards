{
 "cells": [
  {
   "cell_type": "code",
   "execution_count": 1,
   "source": [
    "import datetime\n",
    "import yaml"
   ],
   "outputs": [],
   "metadata": {}
  },
  {
   "cell_type": "code",
   "execution_count": 2,
   "source": [
    "grade_scores = {\n",
    "    0: 6,\n",
    "    1: 4,\n",
    "    2: 3,\n",
    "    3: 2,\n",
    "    4: 1\n",
    "}"
   ],
   "outputs": [],
   "metadata": {}
  },
  {
   "cell_type": "code",
   "execution_count": 3,
   "source": [
    "def score_paper(paper, explain=False, jackpot=0):\n",
    "    # Are the corrections done\n",
    "    if explain:\n",
    "        print(f\"Scoring paper for {paper['date']}\")\n",
    "    # convert and sum the scores\n",
    "    score_values = [grade_scores.get(grade, 0) * 2 for grade in paper[\"grades\"]]\n",
    "    score = sum(score_values)\n",
    "    if explain:\n",
    "        print(f\"\\tGrades alone give {score} points.\")\n",
    "    # add 100% bonus - 6 additional points\n",
    "    if all(grade==jackpot for grade in paper[\"grades\"]):\n",
    "        score += 6\n",
    "        if explain:\n",
    "            print(f\"\\tBonus! 100% - adding 6 points.  Total is {score}\")\n",
    "    # Now score the duration - 20 minutes is optimal.\n",
    "    max_duration = min(paper['duration'], 40)\n",
    "    score += int(max_duration / 10)\n",
    "    if explain:\n",
    "        print(f\"\\tAdding a time bonus. Total is {score}\")\n",
    "\n",
    "    if max_duration >= 15 and max_duration <= 25:\n",
    "        score += 4\n",
    "        if explain:\n",
    "            print(f\"\\tClose to 20! Bonus of 4 points! Total is {score}\")\n",
    "\n",
    "\n",
    "    # add before time bonus\n",
    "    if paper[\"completed_in_time\"]:\n",
    "        score *= 1.5\n",
    "        if explain:\n",
    "            print(f\"\\tBonus! Completed in time - 1.5 times score! total is {score}\")\n",
    "\n",
    "    return score\n",
    "\n"
   ],
   "outputs": [],
   "metadata": {}
  },
  {
   "cell_type": "code",
   "execution_count": 4,
   "source": [
    "def score_child(child):\n",
    "    paper_scores = [score_paper(paper) for paper in child[\"papers\"] if paper['corrections_completed']]\n",
    "    return sum(paper_scores)"
   ],
   "outputs": [],
   "metadata": {}
  },
  {
   "cell_type": "code",
   "execution_count": 5,
   "source": [
    "def summarize_scores(children):\n",
    "    highest_score = (None, 0)\n",
    "    for child_name in children.keys():\n",
    "        score = score_child(children[child_name])\n",
    "        print(f\"{child_name}: {score}\")\n",
    "        if score > highest_score[1]:\n",
    "            highest_score = (child_name, score)\n",
    "    print(f\"Current lead goes to {highest_score[0]}\")"
   ],
   "outputs": [],
   "metadata": {}
  },
  {
   "cell_type": "markdown",
   "source": [
    "In time is defined as: \n",
    "* Before 3pm on non-school days\n",
    "* Before 6pm on school days"
   ],
   "metadata": {}
  },
  {
   "cell_type": "code",
   "execution_count": 16,
   "source": [
    "with open(\"english_data.yaml\") as children_fd:\n",
    "    try:\n",
    "        children = yaml.safe_load(children_fd)['children']\n",
    "    except yaml.parser.ParserError as e:\n",
    "        print(e)\n"
   ],
   "outputs": [],
   "metadata": {}
  },
  {
   "cell_type": "code",
   "execution_count": 13,
   "source": [
    "score_paper(children[\"Helena\"][\"papers\"][0], explain=True)"
   ],
   "outputs": [
    {
     "output_type": "stream",
     "name": "stdout",
     "text": [
      "Scoring paper for 2021-08-24\n",
      "\tGrades alone give 50 points.\n",
      "\tAdding a time bonus. Total is 51\n",
      "\tClose to 20! Bonus of 4 points! Total is 55\n",
      "\tBonus! Completed in time - 1.5 times score! total is 82.5\n"
     ]
    },
    {
     "output_type": "execute_result",
     "data": {
      "text/plain": [
       "82.5"
      ]
     },
     "metadata": {},
     "execution_count": 13
    }
   ],
   "metadata": {}
  },
  {
   "cell_type": "code",
   "execution_count": 14,
   "source": [
    "score_paper(children[\"Jonathan\"][\"papers\"][0], explain=True)"
   ],
   "outputs": [
    {
     "output_type": "stream",
     "name": "stdout",
     "text": [
      "Scoring paper for 2021-08-24\n",
      "\tGrades alone give 52 points.\n",
      "\tAdding a time bonus. Total is 53\n",
      "\tBonus! Completed in time - 1.5 times score! total is 79.5\n"
     ]
    },
    {
     "output_type": "execute_result",
     "data": {
      "text/plain": [
       "79.5"
      ]
     },
     "metadata": {},
     "execution_count": 14
    }
   ],
   "metadata": {}
  },
  {
   "cell_type": "code",
   "execution_count": 10,
   "source": [
    "score_child(children['Helena']), score_child(children['Jonathan'])"
   ],
   "outputs": [
    {
     "output_type": "execute_result",
     "data": {
      "text/plain": [
       "(0, 79.5)"
      ]
     },
     "metadata": {},
     "execution_count": 10
    }
   ],
   "metadata": {}
  },
  {
   "cell_type": "code",
   "execution_count": 17,
   "source": [
    "summarize_scores(children)"
   ],
   "outputs": [
    {
     "output_type": "stream",
     "name": "stdout",
     "text": [
      "Helena: 0\n",
      "Jonathan: 79.5\n",
      "Current lead goes to Jonathan\n"
     ]
    }
   ],
   "metadata": {}
  }
 ],
 "metadata": {
  "orig_nbformat": 4,
  "language_info": {
   "name": "python",
   "version": "3.9.2",
   "mimetype": "text/x-python",
   "codemirror_mode": {
    "name": "ipython",
    "version": 3
   },
   "pygments_lexer": "ipython3",
   "nbconvert_exporter": "python",
   "file_extension": ".py"
  },
  "kernelspec": {
   "name": "python3",
   "display_name": "Python 3.9.2 64-bit ('.venv': venv)"
  },
  "interpreter": {
   "hash": "1d9711aa71b7253ad8b67bb2155b9cfc030f396e8e0306a2bdd71a79b01b7e7c"
  }
 },
 "nbformat": 4,
 "nbformat_minor": 2
}