{
 "cells": [
  {
   "cell_type": "code",
   "execution_count": 12,
   "source": [
    "import datetime\n",
    "import yaml"
   ],
   "outputs": [],
   "metadata": {}
  },
  {
   "cell_type": "markdown",
   "source": [
    "We have the start and end date.\n",
    "We should next collect the raw data for the papers for each child."
   ],
   "metadata": {}
  },
  {
   "cell_type": "code",
   "execution_count": 13,
   "source": [
    "grade_scores = {\n",
    "    100: 6,\n",
    "    \"A\": 4,\n",
    "    \"B\": 3,\n",
    "    \"C\": 2,\n",
    "    \"D\": 1\n",
    "}"
   ],
   "outputs": [],
   "metadata": {}
  },
  {
   "cell_type": "code",
   "execution_count": 14,
   "source": [
    "def score_paper(paper, explain=False, jackpot=100):\n",
    "    # Are the corrections done\n",
    "    if explain:\n",
    "        print(f\"Scoring paper for {paper['date']}\")\n",
    "    # convert and sum the scores\n",
    "    score_values = [grade_scores.get(grade, 0) * 2 for grade in paper[\"grades\"]]\n",
    "    score = sum(score_values)\n",
    "    if explain:\n",
    "        print(f\"\\tGrades alone give {score} points.\")\n",
    "    # add 100% bonus - 6 additional points\n",
    "    if all(grade==jackpot for grade in paper[\"grades\"]):\n",
    "        score += 6\n",
    "        if explain:\n",
    "            print(f\"\\tBonus! 100% - adding 6 points.  Total is {score}\")\n",
    "    # Now score the duration - 20 minutes is optimal.\n",
    "    max_duration = min(paper['duration'], 40)\n",
    "    score += int(max_duration / 10)\n",
    "    if explain:\n",
    "        print(f\"\\tAdding a time bonus. Total is {score}\")\n",
    "\n",
    "    if max_duration > 15 and max_duration < 25:\n",
    "        score += 4\n",
    "        if explain:\n",
    "            print(f\"\\tClose to 20! Bonus of 4 points! Total is {score}\")\n",
    "\n",
    "\n",
    "    # add before time bonus\n",
    "    if paper[\"completed_in_time\"]:\n",
    "        score *= 1.5\n",
    "        if explain:\n",
    "            print(f\"\\tBonus! Completed in time - 1.5 times score! total is {score}\")\n",
    "\n",
    "    return score\n"
   ],
   "outputs": [],
   "metadata": {}
  },
  {
   "cell_type": "code",
   "execution_count": 15,
   "source": [
    "def score_child(child):\n",
    "    paper_scores = [score_paper(paper) for paper in child[\"papers\"] if paper['corrections_completed']]\n",
    "    return sum(paper_scores)"
   ],
   "outputs": [],
   "metadata": {}
  },
  {
   "cell_type": "code",
   "execution_count": 16,
   "source": [
    "def summarize_scores(children):\n",
    "    highest_score = (None, 0)\n",
    "    for child_name in children.keys():\n",
    "        score = score_child(children[child_name])\n",
    "        print(f\"{child_name}: {score}\")\n",
    "        if score > highest_score[1]:\n",
    "            highest_score = (child_name, score)\n",
    "    print(f\"Current lead goes to {highest_score[0]}\")\n"
   ],
   "outputs": [],
   "metadata": {}
  },
  {
   "cell_type": "code",
   "execution_count": 17,
   "source": [
    "start_date_str = \"2021-08-24\"\n",
    "\n",
    "start_date = datetime.datetime.strptime(start_date_str, '%Y-%m-%d')\n",
    "end_date = start_date + datetime.timedelta(days=7)\n",
    "start_date, end_date"
   ],
   "outputs": [
    {
     "output_type": "execute_result",
     "data": {
      "text/plain": [
       "(datetime.datetime(2021, 8, 24, 0, 0), datetime.datetime(2021, 8, 31, 0, 0))"
      ]
     },
     "metadata": {},
     "execution_count": 17
    }
   ],
   "metadata": {}
  },
  {
   "cell_type": "markdown",
   "source": [
    "In time is defined as: \n",
    "* Before 3pm on non-school days\n",
    "* Before 6pm on school days"
   ],
   "metadata": {}
  },
  {
   "cell_type": "code",
   "execution_count": 22,
   "source": [
    "with open(\"maths_data.yaml\") as children_fd:\n",
    "    try:\n",
    "        children = yaml.safe_load(children_fd)['children']\n",
    "    except yaml.parser.ParserError as e:\n",
    "        print(e)"
   ],
   "outputs": [],
   "metadata": {}
  },
  {
   "cell_type": "code",
   "execution_count": 23,
   "source": [
    "score_paper(children[\"Jonathan\"][\"papers\"][1], explain=True)"
   ],
   "outputs": [
    {
     "output_type": "stream",
     "name": "stdout",
     "text": [
      "Scoring paper for 2021-08-24\n",
      "\tGrades alone give 18 points.\n",
      "\tAdding a time bonus. Total is 19\n",
      "\tBonus! Completed in time - 1.5 times score! total is 28.5\n"
     ]
    },
    {
     "output_type": "execute_result",
     "data": {
      "text/plain": [
       "28.5"
      ]
     },
     "metadata": {},
     "execution_count": 23
    }
   ],
   "metadata": {}
  },
  {
   "cell_type": "code",
   "execution_count": 24,
   "source": [
    "score_child(children['Helena']), score_child(children['Jonathan'])"
   ],
   "outputs": [
    {
     "output_type": "execute_result",
     "data": {
      "text/plain": [
       "(0, 40.5)"
      ]
     },
     "metadata": {},
     "execution_count": 24
    }
   ],
   "metadata": {}
  },
  {
   "cell_type": "code",
   "execution_count": 25,
   "source": [
    "summarize_scores(children)"
   ],
   "outputs": [
    {
     "output_type": "stream",
     "name": "stdout",
     "text": [
      "Helena: 0\n",
      "Jonathan: 40.5\n",
      "Current lead goes to Jonathan\n"
     ]
    }
   ],
   "metadata": {}
  }
 ],
 "metadata": {
  "orig_nbformat": 4,
  "language_info": {
   "name": "python",
   "version": "3.9.2",
   "mimetype": "text/x-python",
   "codemirror_mode": {
    "name": "ipython",
    "version": 3
   },
   "pygments_lexer": "ipython3",
   "nbconvert_exporter": "python",
   "file_extension": ".py"
  },
  "kernelspec": {
   "name": "python3",
   "display_name": "Python 3.9.2 64-bit ('.venv': venv)"
  },
  "interpreter": {
   "hash": "1d9711aa71b7253ad8b67bb2155b9cfc030f396e8e0306a2bdd71a79b01b7e7c"
  }
 },
 "nbformat": 4,
 "nbformat_minor": 2
}